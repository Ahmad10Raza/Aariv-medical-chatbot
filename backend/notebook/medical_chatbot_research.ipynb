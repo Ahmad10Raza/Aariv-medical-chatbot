{
 "cells": [
  {
   "cell_type": "markdown",
   "id": "8d80bfa9-ccc3-42de-b27a-12f07e200231",
   "metadata": {},
   "source": [
    "# Aariv Chatbot"
   ]
  },
  {
   "cell_type": "code",
   "execution_count": 3,
   "id": "c92251fb-b793-4203-8fc6-e6349b821847",
   "metadata": {},
   "outputs": [
    {
     "data": {
      "text/plain": [
       "'/home/ahmad10raza/Documents/TutorialHaven/AI & ML/AI & ML Projects/Aariv-medical-chatbot/backend/notebook'"
      ]
     },
     "execution_count": 3,
     "metadata": {},
     "output_type": "execute_result"
    }
   ],
   "source": [
    "%pwd"
   ]
  },
  {
   "cell_type": "code",
   "execution_count": 1,
   "id": "49ae7f2d-d761-4173-aa0c-3cad1b3c459e",
   "metadata": {},
   "outputs": [],
   "source": [
    "from langchain.document_loaders import PyPDFLoader, DirectoryLoader\n",
    "from langchain.text_splitter import RecursiveCharacterTextSplitter"
   ]
  },
  {
   "cell_type": "code",
   "execution_count": 2,
   "id": "158bccf2-60dc-4b2d-afdf-4591f7a5a686",
   "metadata": {},
   "outputs": [],
   "source": [
    "def load_data(data):\n",
    "    loader = DirectoryLoader(\n",
    "        data,\n",
    "        glob = \"*.pdf\",\n",
    "        loader_cls = PyPDFLoader\n",
    "    )\n",
    "\n",
    "    documents = loader.load()\n",
    "    return documents"
   ]
  },
  {
   "cell_type": "code",
   "execution_count": 3,
   "id": "17c3e93b-c160-4273-881d-57decbc638c2",
   "metadata": {
    "scrolled": true
   },
   "outputs": [],
   "source": [
    "pdf_data = load_data(\"/home/ahmad10raza/Documents/TutorialHaven/AI & ML/AI & ML Projects/Aariv-medical-chatbot/backend/data\")"
   ]
  },
  {
   "cell_type": "code",
   "execution_count": 4,
   "id": "9438a78e-5ce1-48f8-86cc-65b2581e3b64",
   "metadata": {},
   "outputs": [
    {
     "data": {
      "text/plain": [
       "Document(metadata={'producer': 'PDFlib+PDI 5.0.0 (SunOS)', 'creator': 'PyPDF', 'creationdate': '2004-12-18T17:00:02-05:00', 'moddate': '2004-12-18T16:15:31-06:00', 'source': '/home/ahmad10raza/Documents/TutorialHaven/AI & ML/AI & ML Projects/Aariv-medical-chatbot/backend/data/Medical_book.pdf', 'total_pages': 637, 'page': 1, 'page_label': '2'}, page_content='The GALE\\nENCYCLOPEDIA\\nof MEDICINE\\nSECOND EDITION')"
      ]
     },
     "execution_count": 4,
     "metadata": {},
     "output_type": "execute_result"
    }
   ],
   "source": [
    "pdf_data[1]"
   ]
  },
  {
   "cell_type": "code",
   "execution_count": 5,
   "id": "4dd0fb76-ce6f-4f36-a737-326510e2c703",
   "metadata": {},
   "outputs": [
    {
     "data": {
      "text/plain": [
       "637"
      ]
     },
     "execution_count": 5,
     "metadata": {},
     "output_type": "execute_result"
    }
   ],
   "source": [
    "len(pdf_data)"
   ]
  },
  {
   "cell_type": "code",
   "execution_count": 6,
   "id": "603a7bff-c419-4069-b5a7-2936e838752a",
   "metadata": {},
   "outputs": [],
   "source": [
    "from typing import List\n",
    "from langchain.schema import Document\n",
    "\n",
    "\n",
    "def filter_to_minimal_docs(docs: List[Document]) -> List[Document]:\n",
    "    \"\"\"\n",
    "    Given a list of Document objects, return a new list of Document objects\n",
    "    containing only 'source' in metadata and the original page_content.\n",
    "    \"\"\"\n",
    "    minimal_docs: List[Document] = []\n",
    "    for doc in docs:\n",
    "        src = doc.metadata.get(\"source\")\n",
    "        minimal_docs.append(\n",
    "            Document(\n",
    "                page_content=doc.page_content,\n",
    "                metadata={\"source\": src}\n",
    "            )\n",
    "        )\n",
    "    return minimal_docs"
   ]
  },
  {
   "cell_type": "code",
   "execution_count": 7,
   "id": "9e77fe09-e6e4-4cb6-aac8-c2b2a667f84d",
   "metadata": {},
   "outputs": [],
   "source": [
    "minimal_docs = filter_to_minimal_docs(pdf_data)"
   ]
  },
  {
   "cell_type": "code",
   "execution_count": 8,
   "id": "0d81482d-dc4d-4400-8dff-f78e63f2e28c",
   "metadata": {},
   "outputs": [
    {
     "data": {
      "text/plain": [
       "Document(metadata={'source': '/home/ahmad10raza/Documents/TutorialHaven/AI & ML/AI & ML Projects/Aariv-medical-chatbot/backend/data/Medical_book.pdf'}, page_content='The GALE\\nENCYCLOPEDIA\\nof MEDICINE\\nSECOND EDITION')"
      ]
     },
     "execution_count": 8,
     "metadata": {},
     "output_type": "execute_result"
    }
   ],
   "source": [
    "minimal_docs[1]"
   ]
  },
  {
   "cell_type": "code",
   "execution_count": 9,
   "id": "35addbb8-2065-44be-80ea-77fb18b992ef",
   "metadata": {},
   "outputs": [],
   "source": [
    "def text_split(minimal_docs):\n",
    "    text_spliter = RecursiveCharacterTextSplitter(\n",
    "        chunk_size = 500,\n",
    "        chunk_overlap =20,\n",
    "    )\n",
    "\n",
    "    text_chunk = text_spliter.split_documents(minimal_docs)\n",
    "    return text_chunk"
   ]
  },
  {
   "cell_type": "code",
   "execution_count": 10,
   "id": "767216c4-0fc0-445f-8717-b408eb8a5529",
   "metadata": {},
   "outputs": [
    {
     "name": "stdout",
     "output_type": "stream",
     "text": [
      "Number of chunks: 5859\n"
     ]
    }
   ],
   "source": [
    "text_chunk = text_split(minimal_docs)\n",
    "print(f\"Number of chunks: {len(text_chunk)}\")"
   ]
  },
  {
   "cell_type": "code",
   "execution_count": 11,
   "id": "a0664692-cd29-4f4b-8208-7667a115689d",
   "metadata": {},
   "outputs": [
    {
     "data": {
      "text/plain": [
       "Document(metadata={'source': '/home/ahmad10raza/Documents/TutorialHaven/AI & ML/AI & ML Projects/Aariv-medical-chatbot/backend/data/Medical_book.pdf'}, page_content='The GALE\\nENCYCLOPEDIA\\nof MEDICINE\\nSECOND EDITION\\nJACQUELINE L. LONGE, EDITOR\\nDEIRDRE S. BLANCHFIELD, ASSOCIATE EDITOR\\nVOLUME\\nA-B\\n1')"
      ]
     },
     "execution_count": 11,
     "metadata": {},
     "output_type": "execute_result"
    }
   ],
   "source": [
    "text_chunk[1]"
   ]
  },
  {
   "cell_type": "code",
   "execution_count": 12,
   "id": "f6bcfcd4-5531-48be-9ae9-1edefe73b69c",
   "metadata": {},
   "outputs": [],
   "source": [
    "from langchain.embeddings import HuggingFaceEmbeddings\n",
    "\n",
    "def download_embeddings():\n",
    "    model_name = \"sentence-transformers/all-MiniLM-L6-v2\"\n",
    "    embeddings = HuggingFaceEmbeddings(\n",
    "    model_name = model_name\n",
    "    )\n",
    "\n",
    "    return embeddings"
   ]
  },
  {
   "cell_type": "code",
   "execution_count": 13,
   "id": "2cc421a6-f874-43b1-b062-0cb343646707",
   "metadata": {},
   "outputs": [
    {
     "name": "stderr",
     "output_type": "stream",
     "text": [
      "/tmp/ipykernel_471177/3316634175.py:5: LangChainDeprecationWarning: The class `HuggingFaceEmbeddings` was deprecated in LangChain 0.2.2 and will be removed in 1.0. An updated version of the class exists in the :class:`~langchain-huggingface package and should be used instead. To use it run `pip install -U :class:`~langchain-huggingface` and import as `from :class:`~langchain_huggingface import HuggingFaceEmbeddings``.\n",
      "  embeddings = HuggingFaceEmbeddings(\n",
      "/home/ahmad10raza/anaconda3/envs/aariv/lib/python3.12/site-packages/tqdm/auto.py:21: TqdmWarning: IProgress not found. Please update jupyter and ipywidgets. See https://ipywidgets.readthedocs.io/en/stable/user_install.html\n",
      "  from .autonotebook import tqdm as notebook_tqdm\n"
     ]
    }
   ],
   "source": [
    "embedding = download_embeddings()"
   ]
  },
  {
   "cell_type": "code",
   "execution_count": 14,
   "id": "7d44752e-239a-42b1-9ae6-fb678fa5f982",
   "metadata": {},
   "outputs": [
    {
     "data": {
      "text/plain": [
       "HuggingFaceEmbeddings(client=SentenceTransformer(\n",
       "  (0): Transformer({'max_seq_length': 256, 'do_lower_case': False}) with Transformer model: BertModel \n",
       "  (1): Pooling({'word_embedding_dimension': 384, 'pooling_mode_cls_token': False, 'pooling_mode_mean_tokens': True, 'pooling_mode_max_tokens': False, 'pooling_mode_mean_sqrt_len_tokens': False, 'pooling_mode_weightedmean_tokens': False, 'pooling_mode_lasttoken': False, 'include_prompt': True})\n",
       "  (2): Normalize()\n",
       "), model_name='sentence-transformers/all-MiniLM-L6-v2', cache_folder=None, model_kwargs={}, encode_kwargs={}, multi_process=False, show_progress=False)"
      ]
     },
     "execution_count": 14,
     "metadata": {},
     "output_type": "execute_result"
    }
   ],
   "source": [
    "embedding"
   ]
  },
  {
   "cell_type": "code",
   "execution_count": 15,
   "id": "57d679d7-bbe1-4c03-9b40-597a206ffd01",
   "metadata": {},
   "outputs": [
    {
     "data": {
      "text/plain": [
       "[-0.06363649666309357,\n",
       " 0.05672890320420265,\n",
       " 0.06548798829317093,\n",
       " 0.08393252640962601,\n",
       " -0.058103132992982864,\n",
       " -0.10256102681159973,\n",
       " 0.05128074064850807,\n",
       " 0.04470963776111603,\n",
       " -0.03563312813639641,\n",
       " -0.050687287002801895,\n",
       " 0.005667931865900755,\n",
       " -0.021423285827040672,\n",
       " 0.0494103729724884,\n",
       " -0.03953520208597183,\n",
       " -0.008083222433924675,\n",
       " -0.023780042305588722,\n",
       " 0.0571792908012867,\n",
       " -0.056650660932064056,\n",
       " -0.0898968055844307,\n",
       " 0.054561108350753784,\n",
       " -0.03422028571367264,\n",
       " 0.07112811505794525,\n",
       " -0.02958136796951294,\n",
       " 0.015067948028445244,\n",
       " 0.05222901701927185,\n",
       " 0.027466990053653717,\n",
       " -0.023757455870509148,\n",
       " 0.05517798662185669,\n",
       " 0.025047706440091133,\n",
       " -0.03663790225982666,\n",
       " -0.012544991448521614,\n",
       " -0.021863950416445732,\n",
       " 0.0024401431437581778,\n",
       " 0.010432859882712364,\n",
       " 0.029764074832201004,\n",
       " 0.07402374595403671,\n",
       " -0.03310031071305275,\n",
       " -0.038890860974788666,\n",
       " 0.04838502034544945,\n",
       " -0.04125753417611122,\n",
       " 0.007217845413833857,\n",
       " -0.1631166934967041,\n",
       " -0.04156303405761719,\n",
       " -0.045052699744701385,\n",
       " 0.05850587412714958,\n",
       " 0.007885306142270565,\n",
       " 0.05156465247273445,\n",
       " 0.005046726670116186,\n",
       " 0.08535365015268326,\n",
       " -0.06486104428768158,\n",
       " -0.0601261705160141,\n",
       " -0.0186891071498394,\n",
       " 0.006595707032829523,\n",
       " 0.01598980836570263,\n",
       " 0.04177957773208618,\n",
       " 0.002504936419427395,\n",
       " 0.05304865911602974,\n",
       " -0.004955565091222525,\n",
       " 0.08707326650619507,\n",
       " 0.0179055854678154,\n",
       " 0.006458120886236429,\n",
       " -0.03718375414609909,\n",
       " -0.058744367212057114,\n",
       " -0.00490773469209671,\n",
       " 0.058781176805496216,\n",
       " -0.0394485704600811,\n",
       " -0.050631385296583176,\n",
       " -0.021427497267723083,\n",
       " -0.07743977010250092,\n",
       " 0.008923929184675217,\n",
       " 0.057867977768182755,\n",
       " -0.019980059936642647,\n",
       " -0.052952349185943604,\n",
       " 0.03435704857110977,\n",
       " -0.048524413257837296,\n",
       " -0.02193504199385643,\n",
       " 0.09256396442651749,\n",
       " 0.02164882980287075,\n",
       " 0.04606311395764351,\n",
       " 0.019123390316963196,\n",
       " 0.06327565759420395,\n",
       " -0.13176889717578888,\n",
       " -0.1353941708803177,\n",
       " 0.061432186514139175,\n",
       " -0.00024912343360483646,\n",
       " 0.009348046965897083,\n",
       " 0.020298302173614502,\n",
       " 0.06060035899281502,\n",
       " -0.08773317188024521,\n",
       " -0.010263362899422646,\n",
       " -0.08570894598960876,\n",
       " -0.01354626938700676,\n",
       " 0.04771382361650467,\n",
       " 0.03145001828670502,\n",
       " -0.07819335907697678,\n",
       " -0.009848496876657009,\n",
       " 0.09074097871780396,\n",
       " -0.005854944232851267,\n",
       " -0.1061553806066513,\n",
       " 0.1415669322013855,\n",
       " 0.06012454256415367,\n",
       " 0.056091807782649994,\n",
       " -0.00198134477250278,\n",
       " 0.0460662841796875,\n",
       " -0.017781829461455345,\n",
       " 0.012167248874902725,\n",
       " -0.1177155002951622,\n",
       " 0.07864418625831604,\n",
       " 0.03573479875922203,\n",
       " -0.051973238587379456,\n",
       " 0.06606036424636841,\n",
       " -0.08062528073787689,\n",
       " -0.06970035284757614,\n",
       " -0.015444904565811157,\n",
       " 0.006592978723347187,\n",
       " -0.050777386873960495,\n",
       " -0.0010847656521946192,\n",
       " 0.006333906203508377,\n",
       " 0.04661113768815994,\n",
       " 0.034194838255643845,\n",
       " -0.003354995511472225,\n",
       " 0.0016215454088523984,\n",
       " 0.0004396104777697474,\n",
       " 0.020298823714256287,\n",
       " 0.030495846644043922,\n",
       " -0.014348453842103481,\n",
       " -0.010028921999037266,\n",
       " -8.252612456561595e-33,\n",
       " -0.03725317865610123,\n",
       " 0.022633103653788567,\n",
       " 0.044781919568777084,\n",
       " 0.15921512246131897,\n",
       " -0.01594480127096176,\n",
       " 0.05167842656373978,\n",
       " -0.08224420249462128,\n",
       " 0.021830813959240913,\n",
       " 0.022272083908319473,\n",
       " -0.037344906479120255,\n",
       " 0.07577252388000488,\n",
       " 0.062023114413022995,\n",
       " -0.010120512917637825,\n",
       " 0.032272469252347946,\n",
       " -0.051179103553295135,\n",
       " 0.013314378447830677,\n",
       " -0.06178653612732887,\n",
       " -0.09969460219144821,\n",
       " -0.09651976078748703,\n",
       " -0.01939818076789379,\n",
       " -0.009772567078471184,\n",
       " -0.055482666939496994,\n",
       " 0.08918753266334534,\n",
       " 0.10684212297201157,\n",
       " 0.09122207015752792,\n",
       " -0.08348677307367325,\n",
       " 0.035398490726947784,\n",
       " -0.0906076431274414,\n",
       " 0.01803664304316044,\n",
       " 0.01550015714019537,\n",
       " 0.03778540715575218,\n",
       " 0.04379301145672798,\n",
       " 0.012556299567222595,\n",
       " 0.02376127988100052,\n",
       " -0.0022591145243495703,\n",
       " 0.0038623434957116842,\n",
       " 0.0014170464128255844,\n",
       " -0.058991897851228714,\n",
       " -0.04075691103935242,\n",
       " -0.02134179137647152,\n",
       " -0.02028798498213291,\n",
       " 0.013879042118787766,\n",
       " -0.05826057121157646,\n",
       " -0.07367236912250519,\n",
       " 0.010240358300507069,\n",
       " 0.022108539938926697,\n",
       " 0.029182298108935356,\n",
       " -0.0013250245247036219,\n",
       " 0.004054590594023466,\n",
       " 0.001308272941969335,\n",
       " -0.039745766669511795,\n",
       " 0.031715311110019684,\n",
       " -0.06880100071430206,\n",
       " -0.029107240960001945,\n",
       " 0.03494542837142944,\n",
       " 0.0008250406244769692,\n",
       " 0.03655977174639702,\n",
       " 0.02366001531481743,\n",
       " -0.01577949710190296,\n",
       " -0.006093238014727831,\n",
       " -0.03420860692858696,\n",
       " 0.10241586714982986,\n",
       " -0.023978443816304207,\n",
       " 0.08316126465797424,\n",
       " -0.09386374056339264,\n",
       " 0.013177393935620785,\n",
       " 0.013491558842360973,\n",
       " 0.06266287714242935,\n",
       " 0.0003004625323228538,\n",
       " 0.03598935902118683,\n",
       " 0.027331357821822166,\n",
       " -0.0660867765545845,\n",
       " 0.0009886828484013677,\n",
       " 0.040681611746549606,\n",
       " 0.027847955003380775,\n",
       " 0.03144139051437378,\n",
       " -0.030974579975008965,\n",
       " 0.034908637404441833,\n",
       " 0.0038214982487261295,\n",
       " -0.04794057086110115,\n",
       " 0.00791734829545021,\n",
       " 0.03092079609632492,\n",
       " 0.01740100234746933,\n",
       " 0.0016429328825324774,\n",
       " 0.12422867119312286,\n",
       " 0.002976385410875082,\n",
       " -0.08972528576850891,\n",
       " -0.08352895081043243,\n",
       " 0.013796436600387096,\n",
       " 6.450447108363733e-05,\n",
       " -0.016282090917229652,\n",
       " 0.01247328519821167,\n",
       " 0.04105641320347786,\n",
       " -0.04479089006781578,\n",
       " -0.11839283257722855,\n",
       " 4.093851931280548e-33,\n",
       " 0.036990419030189514,\n",
       " 0.048551417887210846,\n",
       " 0.05079777538776398,\n",
       " -0.026370668783783913,\n",
       " 0.060553014278411865,\n",
       " -0.030162060633301735,\n",
       " -0.00973567645996809,\n",
       " 0.047194961458444595,\n",
       " -0.09505070745944977,\n",
       " 0.12572966516017914,\n",
       " 0.01560676097869873,\n",
       " 0.026512760668992996,\n",
       " 0.04192149266600609,\n",
       " -0.012312667444348335,\n",
       " 0.08972926437854767,\n",
       " -0.027864186093211174,\n",
       " 0.07829359918832779,\n",
       " -0.021495994180440903,\n",
       " -0.051054947078228,\n",
       " -0.025903945788741112,\n",
       " -0.07595263421535492,\n",
       " 0.021595686674118042,\n",
       " -0.00012258805509191006,\n",
       " 0.026155998930335045,\n",
       " -0.011159740388393402,\n",
       " -0.03634155914187431,\n",
       " 0.01053768303245306,\n",
       " 0.029683999717235565,\n",
       " 0.021214768290519714,\n",
       " -0.015698716044425964,\n",
       " -0.03648974373936653,\n",
       " -0.018063342198729515,\n",
       " -0.02837175503373146,\n",
       " 0.048836447298526764,\n",
       " 0.03122071735560894,\n",
       " 0.023485496640205383,\n",
       " -0.031773682683706284,\n",
       " -0.05287017300724983,\n",
       " 0.017409274354577065,\n",
       " -0.09967539459466934,\n",
       " -0.047375358641147614,\n",
       " 0.038762304931879044,\n",
       " 0.041217267513275146,\n",
       " 0.0159175843000412,\n",
       " -0.022829946130514145,\n",
       " -0.09784554690122604,\n",
       " -0.02333533950150013,\n",
       " 0.0018713646568357944,\n",
       " -0.017284400761127472,\n",
       " 0.0949069932103157,\n",
       " 0.027450507506728172,\n",
       " -0.0408293716609478,\n",
       " 0.02783309482038021,\n",
       " 0.010558592155575752,\n",
       " -0.06155271828174591,\n",
       " -0.020870506763458252,\n",
       " 0.04219294711947441,\n",
       " 0.03752060607075691,\n",
       " 0.005889714229851961,\n",
       " -0.01869187317788601,\n",
       " 0.04592369869351387,\n",
       " -0.023919250816106796,\n",
       " 0.041891828179359436,\n",
       " 0.044436708092689514,\n",
       " -0.07817991077899933,\n",
       " -0.11203067749738693,\n",
       " -0.06606662273406982,\n",
       " 0.06107356399297714,\n",
       " 0.005453781224787235,\n",
       " -0.0026034561451524496,\n",
       " 0.06537697464227676,\n",
       " 0.010308361612260342,\n",
       " -0.02778756618499756,\n",
       " -0.08572118729352951,\n",
       " -0.04636736586689949,\n",
       " 0.01942218281328678,\n",
       " 0.02807130292057991,\n",
       " 0.015002729371190071,\n",
       " 0.007307054474949837,\n",
       " -0.07277143746614456,\n",
       " 0.03072258271276951,\n",
       " 0.05516163259744644,\n",
       " 0.038205113261938095,\n",
       " 0.010094430297613144,\n",
       " 0.02982153743505478,\n",
       " 0.033453479409217834,\n",
       " 0.016443775966763496,\n",
       " 0.049780283123254776,\n",
       " 0.049999773502349854,\n",
       " 0.012622997164726257,\n",
       " 0.026796631515026093,\n",
       " 0.0261857807636261,\n",
       " -0.026735730469226837,\n",
       " 0.008207173086702824,\n",
       " -0.1289709359407425,\n",
       " -1.7769558269264962e-08,\n",
       " 0.00528982887044549,\n",
       " 0.03762708604335785,\n",
       " 0.010478307493031025,\n",
       " -0.005372387822717428,\n",
       " 0.0850708857178688,\n",
       " -0.018597552552819252,\n",
       " -0.015418248251080513,\n",
       " -0.05988200008869171,\n",
       " -0.004794635809957981,\n",
       " -0.01411008182913065,\n",
       " 0.05155778303742409,\n",
       " 0.049262166023254395,\n",
       " -0.012288618832826614,\n",
       " -0.012957749888300896,\n",
       " 0.036244556307792664,\n",
       " 0.00734581146389246,\n",
       " -0.04260680824518204,\n",
       " -0.005466429051011801,\n",
       " -0.01606791466474533,\n",
       " 0.049769237637519836,\n",
       " -0.0036468971520662308,\n",
       " 0.04395617917180061,\n",
       " -0.02796502783894539,\n",
       " 0.05287166312336922,\n",
       " 0.08158494532108307,\n",
       " 0.0047454978339374065,\n",
       " 0.045109499245882034,\n",
       " -0.014335688203573227,\n",
       " 0.021486811339855194,\n",
       " -0.009176327846944332,\n",
       " -0.0838092789053917,\n",
       " 0.10331691056489944,\n",
       " -0.04802142083644867,\n",
       " -0.08677228540182114,\n",
       " -0.09057295322418213,\n",
       " -0.08327723294496536,\n",
       " -0.001908091944642365,\n",
       " -0.008899705484509468,\n",
       " 0.030081667006015778,\n",
       " -0.08165743201971054,\n",
       " 0.05341450870037079,\n",
       " 0.04048367589712143,\n",
       " -0.012240629643201828,\n",
       " -0.01797448843717575,\n",
       " -0.11053389310836792,\n",
       " 0.0018506806809455156,\n",
       " 0.02041276916861534,\n",
       " -0.1302889585494995,\n",
       " -0.018628329038619995,\n",
       " 0.015308035537600517,\n",
       " -0.02603394165635109,\n",
       " -0.03276599943637848,\n",
       " 0.07584082335233688,\n",
       " -0.02173425629734993,\n",
       " 0.061924923211336136,\n",
       " 0.08377433568239212,\n",
       " -0.0361623577773571,\n",
       " 0.027794264256954193,\n",
       " -0.03177429363131523,\n",
       " -0.07971028983592987,\n",
       " 0.07751619815826416,\n",
       " 0.013845224864780903,\n",
       " 0.05219855532050133,\n",
       " -0.011620791628956795]"
      ]
     },
     "execution_count": 15,
     "metadata": {},
     "output_type": "execute_result"
    }
   ],
   "source": [
    "vector = embedding.embed_query(\"Hello I'm Tesla\")\n",
    "vector"
   ]
  },
  {
   "cell_type": "code",
   "execution_count": 16,
   "id": "ac3e2fb9",
   "metadata": {},
   "outputs": [
    {
     "name": "stdout",
     "output_type": "stream",
     "text": [
      "vector length: 384\n"
     ]
    }
   ],
   "source": [
    "print(\"vector length:\",len(vector))"
   ]
  },
  {
   "cell_type": "code",
   "execution_count": null,
   "id": "ff621de4",
   "metadata": {},
   "outputs": [],
   "source": [
    "from dotenv import load_dotenv\n",
    "import os\n",
    "load_dotenv()\n",
    "PINECONE_API_KEY = \"XXXXXXX\"\n",
    "OPENAI_API_KEY = os.getenv(\"OPENAI_API_KEY\")\n",
    "\n",
    "\n",
    "os.environ[\"PINECONE_API_KEY\"] = PINECONE_API_KEY\n",
    "os.environ[\"OPENAI_API_KEY\"] = OPENAI_API_KEY"
   ]
  },
  {
   "cell_type": "code",
   "execution_count": null,
   "id": "e6b02b84",
   "metadata": {},
   "outputs": [
    {
     "name": "stdout",
     "output_type": "stream",
     "text": [
      "✅ Pinecone client initialized\n"
     ]
    }
   ],
   "source": [
    "# import os\n",
    "# from dotenv import load_dotenv\n",
    "# from pinecone import Pinecone\n",
    "\n",
    "# # Load from .env file\n",
    "# load_dotenv(dotenv_path=\"/home/ahmad10raza/Documents/TutorialHaven/AI & ML/AI & ML Projects/Aariv-medical-chatbot/backend/.env\")\n",
    "\n",
    "# # Fallback: explicitly set env var if dotenv didn't load it\n",
    "# if not os.getenv(\"PINECONE_API_KEY\"):\n",
    "#     os.environ[\"PINECONE_API_KEY\"] = \"pcsk_xxxxxxx\"  # <-- replace with your actual key (or keep only for debugging)\n",
    "\n",
    "# # Initialize Pinecone with API key\n",
    "# pc = Pinecone(api_key=)\n",
    "\n",
    "# print(\"✅ Pinecone client initialized\")\n"
   ]
  },
  {
   "cell_type": "code",
   "execution_count": 21,
   "id": "ac6542b4",
   "metadata": {},
   "outputs": [],
   "source": [
    "from pinecone import Pinecone\n",
    "pc = Pinecone(api_key=PINECONE_API_KEY)"
   ]
  },
  {
   "cell_type": "code",
   "execution_count": 22,
   "id": "ca48d695",
   "metadata": {},
   "outputs": [
    {
     "data": {
      "text/plain": [
       "<pinecone.pinecone.Pinecone at 0x7b290252a300>"
      ]
     },
     "execution_count": 22,
     "metadata": {},
     "output_type": "execute_result"
    }
   ],
   "source": [
    "pc"
   ]
  },
  {
   "cell_type": "code",
   "execution_count": 23,
   "id": "658ac17f",
   "metadata": {},
   "outputs": [],
   "source": [
    "from pinecone import ServerlessSpec\n",
    "\n",
    "index_name = \"aariv-medical-chatbot\"\n",
    "\n",
    "if not pc.has_index(index_name):\n",
    "    pc.create_index(\n",
    "        name=index_name,\n",
    "        dimension=384,\n",
    "        metric=\"cosine\",\n",
    "        spec=ServerlessSpec(cloud=\"aws\",region=\"us-east-1\")\n",
    "    )\n",
    "\n",
    "indexn = pc.Index(index_name)"
   ]
  },
  {
   "cell_type": "code",
   "execution_count": null,
   "id": "369cb757",
   "metadata": {},
   "outputs": [],
   "source": [
    "# from pinecone import Pinecone\n",
    "\n",
    "# pc = Pinecone(api_key=\"pcsk_XXXXX\")\n",
    "# index = pc.Index(\"aarive-medical-chatbot\")"
   ]
  },
  {
   "cell_type": "code",
   "execution_count": 24,
   "id": "d27a2a2f",
   "metadata": {},
   "outputs": [],
   "source": [
    "from langchain_pinecone import PineconeVectorStore\n",
    "\n",
    "docsearch = PineconeVectorStore.from_documents(\n",
    "    documents=text_chunk,\n",
    "    embedding=embedding,\n",
    "    index_name=index_name\n",
    ")"
   ]
  },
  {
   "cell_type": "code",
   "execution_count": 25,
   "id": "1042de3e",
   "metadata": {},
   "outputs": [],
   "source": [
    "# Load Existing index \n",
    "\n",
    "from langchain_pinecone import PineconeVectorStore\n",
    "# Embed each chunk and upsert the embeddings into your Pinecone index.\n",
    "docsearch = PineconeVectorStore.from_existing_index(\n",
    "    index_name=index_name,\n",
    "    embedding=embedding\n",
    ")"
   ]
  },
  {
   "cell_type": "code",
   "execution_count": 27,
   "id": "b585d0fc",
   "metadata": {},
   "outputs": [],
   "source": [
    "test_data = Document(\n",
    "    page_content=\"American engineer, futurist, and inventor. He is known for his contributions to the design of the modern alternating current electricity supply system. Born and raised in the Austrian Empire, Tesla first studied engineering and physics in the 1870s without receiving a degree\",\n",
    "    metadata={\"source\":\"wikipedia\"}\n",
    ")"
   ]
  },
  {
   "cell_type": "code",
   "execution_count": 28,
   "id": "5cc2420f",
   "metadata": {},
   "outputs": [
    {
     "data": {
      "text/plain": [
       "['2b441fef-aa36-40e0-a158-c2af4e395503']"
      ]
     },
     "execution_count": 28,
     "metadata": {},
     "output_type": "execute_result"
    }
   ],
   "source": [
    "docsearch.add_documents(documents=[test_data])"
   ]
  },
  {
   "cell_type": "code",
   "execution_count": 29,
   "id": "60321b7a",
   "metadata": {},
   "outputs": [],
   "source": [
    "retriver = docsearch.as_retriever(search_type=\"similarity\", search_kwargs={\"k\":3})"
   ]
  },
  {
   "cell_type": "code",
   "execution_count": 30,
   "id": "ec942b3b",
   "metadata": {},
   "outputs": [
    {
     "data": {
      "text/plain": [
       "[Document(id='5eaa941b-b3ee-44c6-914c-d4231465bb90', metadata={'source': '/home/ahmad10raza/Documents/TutorialHaven/AI & ML/AI & ML Projects/Aariv-medical-chatbot/backend/data/Medical_book.pdf'}, page_content='fever in children. This disease is most often caused by\\ntypes 3 and 7. Symptoms, which appear suddenly and\\nusually disappear in less than a week, include:\\n• inflammation of the lining of the eyelid (conjunctivitis)\\n•f e v e r\\n• sore throat (pharyngitis)\\n• runny nose\\n• inflammation of lymph glands in the neck (cervical\\nadenitis)\\nGALE ENCYCLOPEDIA OF MEDICINE 256\\nAdenovirus infections\\nGEM - 0001 to 0432 - A  10/22/03 1:41 PM  Page 56'),\n",
       " Document(id='ee64ef04-e9bd-4840-99bc-485274546899', metadata={'source': '/home/ahmad10raza/Documents/TutorialHaven/AI & ML/AI & ML Projects/Aariv-medical-chatbot/backend/data/Medical_book.pdf'}, page_content='(38°–40°C). In addition, a general ill feeling, muscle\\naches, headache, chills, and loss of appetite may be felt.\\nDiagnosis\\nIf lymphangitis is suspected, the person should call\\nhis or her doctor immediately or go to an emergency\\nroom. Acute lymphangitis could be diagnosed by the\\nfamily doctor, infectious disease specialist, or an emer-\\ngency room doctor. The painful, red streaks just below\\nthe skin surface and the high fever are diagnostic of acute'),\n",
       " Document(id='3975ab37-3044-4194-b3c6-3d7e39acbe2a', metadata={'source': '/home/ahmad10raza/Documents/TutorialHaven/AI & ML/AI & ML Projects/Aariv-medical-chatbot/backend/data/Medical_book.pdf'}, page_content='Description\\nAlso known as undulant fever, Malta fever, Gibraltar\\nfever, Bang’s disease, or Mediterranean fever, brucellosis\\nis most likely to occur among those individuals who reg-\\nularly work with livestock. The disease originated in\\ndomestic livestock but was passed on to wild animal\\nspecies, including the elk and buffalo of the western\\nUnited States. In humans, brucellosis continues to be\\nspread via unpasteurized milk obtained from infected')]"
      ]
     },
     "execution_count": 30,
     "metadata": {},
     "output_type": "execute_result"
    }
   ],
   "source": [
    "retrived_docs = retriver.invoke(\"What is Fever?\")\n",
    "retrived_docs"
   ]
  },
  {
   "cell_type": "code",
   "execution_count": 34,
   "id": "9e3e01d3",
   "metadata": {},
   "outputs": [],
   "source": [
    "from langchain_openai import ChatOpenAI\n",
    "from langchain.chains import create_retrieval_chain\n",
    "from langchain.chains.combine_documents import create_stuff_documents_chain\n",
    "from langchain_core.prompts import ChatPromptTemplate\n",
    " \n",
    "llm = ChatOpenAI(model=\"gpt-4o-mini\")\n",
    "\n",
    "system_prompt = (\n",
    "    \"You are an Medical assistant for question-answering tasks. \"\n",
    "    \"Use the following pieces of retrieved context to answer \"\n",
    "    \"the question. If you don't know the answer, say that you \"\n",
    "    \"don't know. Use three sentences maximum and keep the \"\n",
    "    \"answer concise.\"\n",
    "    \"\\n\\n\"\n",
    "    \"{context}\"\n",
    ")"
   ]
  },
  {
   "cell_type": "code",
   "execution_count": 36,
   "id": "c6f2865a",
   "metadata": {},
   "outputs": [],
   "source": [
    "prompt = ChatPromptTemplate.from_messages(\n",
    "    [\n",
    "        (\"system\", system_prompt),\n",
    "        (\"human\",\"{input}\"),\n",
    "    ]\n",
    ")"
   ]
  },
  {
   "cell_type": "code",
   "execution_count": 39,
   "id": "2fb01e90",
   "metadata": {},
   "outputs": [],
   "source": [
    "question_answer_chain = create_stuff_documents_chain(llm=llm,prompt=prompt)\n",
    "\n",
    "rag_chain = create_retrieval_chain(retriver,question_answer_chain)"
   ]
  },
  {
   "cell_type": "code",
   "execution_count": 40,
   "id": "0be19d59",
   "metadata": {},
   "outputs": [
    {
     "name": "stdout",
     "output_type": "stream",
     "text": [
      "Acromegaly and gigantism are disorders caused by excess growth hormone from the pituitary gland. Acromegaly occurs in adults after bone growth has stopped, leading to increased growth in bone and soft tissue, while gigantism occurs in children before their growth plates close, resulting in unusual height. Both conditions can cause various disturbances throughout the body.\n"
     ]
    }
   ],
   "source": [
    "response = rag_chain.invoke({\"input\": \"what is Acromegaly and gigantism?\"})\n",
    "print(response[\"answer\"])"
   ]
  },
  {
   "cell_type": "code",
   "execution_count": 41,
   "id": "1b8e8a5b",
   "metadata": {},
   "outputs": [
    {
     "name": "stdout",
     "output_type": "stream",
     "text": [
      "Acne is a common skin disease characterized by pimples on the face, chest, and back, occurring when the pores of the skin become clogged with oil, dead skin cells, and bacteria. The medical term for common acne is acne vulgaris, which affects nearly 17 million people in the United States. It is the most common skin disease.\n"
     ]
    }
   ],
   "source": [
    "response = rag_chain.invoke({\"input\": \"what is Acne?\"})\n",
    "print(response[\"answer\"])"
   ]
  },
  {
   "cell_type": "code",
   "execution_count": 42,
   "id": "6211a456",
   "metadata": {},
   "outputs": [
    {
     "name": "stdout",
     "output_type": "stream",
     "text": [
      "Treatment for acne varies based on its severity. For mild noninflammatory acne, topical treatments like tretinoin, benzoyl peroxide, adapalene, or salicylic acid are recommended. For more severe cases, especially those with inflammation, topical antibiotics may be added, and treatment can take two to four weeks to show improvement.\n"
     ]
    }
   ],
   "source": [
    "response = rag_chain.invoke({\"input\": \"what is the Treatment of Acne?\"})\n",
    "print(response[\"answer\"])"
   ]
  },
  {
   "cell_type": "code",
   "execution_count": 43,
   "id": "c1343863",
   "metadata": {},
   "outputs": [
    {
     "name": "stdout",
     "output_type": "stream",
     "text": [
      "Nikola Tesla was an American engineer, futurist, and inventor known for his significant contributions to the design of the modern alternating current electricity supply system. He was born and raised in the Austrian Empire and studied engineering and physics in the 1870s without earning a degree. Tesla is renowned for his innovative ideas and inventions that laid the foundation for many technologies used today.\n"
     ]
    }
   ],
   "source": [
    "response = rag_chain.invoke({\"input\": \"Who is nikola tesla?\"})\n",
    "print(response[\"answer\"])"
   ]
  },
  {
   "cell_type": "code",
   "execution_count": 44,
   "id": "1db40502",
   "metadata": {},
   "outputs": [
    {
     "name": "stdout",
     "output_type": "stream",
     "text": [
      "I don't know who you are.\n"
     ]
    }
   ],
   "source": [
    "response = rag_chain.invoke({\"input\": \"who i am?\"})\n",
    "print(response[\"answer\"])"
   ]
  },
  {
   "cell_type": "code",
   "execution_count": 45,
   "id": "3312f662",
   "metadata": {},
   "outputs": [
    {
     "name": "stdout",
     "output_type": "stream",
     "text": [
      "India is known for its rich cultural heritage, diverse traditions, and historical significance. It has made substantial contributions to various fields, including philosophy, mathematics, and medicine, particularly through systems like Ayurveda. Additionally, India is home to a vast array of languages, religions, and cuisines, reflecting its multifaceted society.\n"
     ]
    }
   ],
   "source": [
    "response = rag_chain.invoke({\"input\": \"tell me something about india?\"})\n",
    "print(response[\"answer\"])"
   ]
  }
 ],
 "metadata": {
  "kernelspec": {
   "display_name": "aariv",
   "language": "python",
   "name": "python3"
  },
  "language_info": {
   "codemirror_mode": {
    "name": "ipython",
    "version": 3
   },
   "file_extension": ".py",
   "mimetype": "text/x-python",
   "name": "python",
   "nbconvert_exporter": "python",
   "pygments_lexer": "ipython3",
   "version": "3.12.11"
  }
 },
 "nbformat": 4,
 "nbformat_minor": 5
}
